{
 "cells": [
  {
   "cell_type": "code",
   "execution_count": 1,
   "metadata": {},
   "outputs": [],
   "source": [
    "# Load all the packages needed\n",
    "from bs4 import BeautifulSoup\n",
    "import nltk\n",
    "import re\n",
    "from nltk.corpus import stopwords\n",
    "stop = stopwords.words('english')"
   ]
  },
  {
   "cell_type": "code",
   "execution_count": 2,
   "metadata": {},
   "outputs": [],
   "source": [
    "# HTML Input\n",
    "html_document = 'bankstatement.html'"
   ]
  },
  {
   "cell_type": "code",
   "execution_count": 3,
   "metadata": {},
   "outputs": [],
   "source": [
    "# Load the html file \n",
    "from bs4 import BeautifulSoup\n",
    "\n",
    "soup = BeautifulSoup(open(html_document), 'html.parser')\n",
    "pages = soup.findAll('page')"
   ]
  },
  {
   "cell_type": "code",
   "execution_count": 4,
   "metadata": {},
   "outputs": [],
   "source": [
    "# find each span that store letters then join the letter so it can form specific words\n",
    "# then store the properties that only has 'baseline' element, baseline exist as a line or block that compile words from each letter\n",
    "# return each words with it tags so that we could use it for next text extraction\n",
    "\n",
    "# center_coord_hor is a center coordinate of each word horizontally\n",
    "# center_coord_ver is a center coordinate of each word vertically\n",
    "\n",
    "\n",
    "def page_details(lines):\n",
    "    page_detail = []\n",
    "    for l in lines:\n",
    "        letter = []\n",
    "        for j in l.findAll('span'):\n",
    "            letter.append(j.text)\n",
    "        \n",
    "        string = ''.join(letter)\n",
    "        if l.get('baseline'):\n",
    "            page_detail.append({'string': string,\n",
    "                                'baseline': int(l['baseline']),\n",
    "                                'l': int(l['l']),\n",
    "                                'r': int(l['r']),\n",
    "                                'b': int(l['b']),\n",
    "                                't': int(l['t']), \n",
    "                                'center_coord_hor': (int(l['r']) + int(l['l'])) / 2, #Center coordinate of each word in horizontal, will be later use to extract string based on the word position.\n",
    "                                'center_coord_ver': (int(l['b']) + int(l['t'])) / 2, #Center coordinate of each word in diagonal, will be later use to extract string based on the word position.\n",
    "                                })\n",
    "    \n",
    "    return page_detail"
   ]
  },
  {
   "cell_type": "code",
   "execution_count": 5,
   "metadata": {},
   "outputs": [],
   "source": [
    "# preprocess the input by filtering the stopwords and tokenize the words\n",
    "\n",
    "def preprocess(document):\n",
    "    document = ' '.join([i for i in document.split() if i not in stop])\n",
    "    sentences = nltk.sent_tokenize(document)\n",
    "    sentences = [nltk.word_tokenize(sent) for sent in sentences]\n",
    "    sentences = [nltk.pos_tag(sent) for sent in sentences]\n",
    "    return sentences"
   ]
  },
  {
   "cell_type": "code",
   "execution_count": 6,
   "metadata": {},
   "outputs": [],
   "source": [
    "# filter the words from the input that only in uppercase \n",
    "# join the uppercase string and then using Named-Entity Recognition to extract name from the list\n",
    "\n",
    "def extract_name(document):\n",
    "    name_is_uppercase = list(filter(lambda x: x['string'].isupper(), document))\n",
    "    name_is_uppercase = ' '.join(list(map(lambda j: j['string'], name_is_uppercase)))\n",
    "    sentences = preprocess(name_is_uppercase)\n",
    "    \n",
    "    names = []\n",
    "    \n",
    "    for tagged_sentence in sentences:\n",
    "        for chunk in nltk.ne_chunk(tagged_sentence):\n",
    "            if type(chunk) == nltk.tree.Tree:\n",
    "                if chunk.label() == 'PERSON':\n",
    "                    names.append(' '.join(c[0] for c in chunk))\n",
    "                    \n",
    "    return names"
   ]
  },
  {
   "cell_type": "code",
   "execution_count": 7,
   "metadata": {},
   "outputs": [],
   "source": [
    "#load name with script below\n",
    "#extract_name(page_details(pages[0]))"
   ]
  },
  {
   "cell_type": "code",
   "execution_count": 8,
   "metadata": {},
   "outputs": [],
   "source": [
    "# firstly, treat the person name as a string instead of list\n",
    "# and the split the dict after name, let us assume that address is often print next after name\n",
    "# find the address pattern using regex\n",
    "\n",
    "\n",
    "def extract_address(document):\n",
    "    person_name = extract_name(page_details(pages[0]))\n",
    "    person_name = ''.join(person_name)\n",
    "    text = ' '.join(list(map(lambda j: j['string'], document)))\n",
    "    text = text.split(person_name, 1)[1]\n",
    "    address = re.findall('[A-Za-z0-9]{1}.+ [0-9]{6}', text)\n",
    "    return address"
   ]
  },
  {
   "cell_type": "code",
   "execution_count": 9,
   "metadata": {},
   "outputs": [],
   "source": [
    "#load address with script below\n",
    "#extract_address(page_details(pages[0]))"
   ]
  },
  {
   "cell_type": "code",
   "execution_count": 10,
   "metadata": {},
   "outputs": [],
   "source": [
    "# this is actually tell us to select text below any defined text above,\n",
    "# with 'l' is the left coordinate, 'r' is the right coordinate, and 't' is the top line border coordinate and center_coord_hor is already explained above\n",
    "# return a text below that have 'l' value is less than equal center coordinate of horizontal value of defined text above\n",
    "# and the 'r' value is greater than equal center coordinate of horizontal value of defined text above\n",
    "# and the 't' value of text below should be greater than defined text above\n",
    "# Why is that? Because text below text is of course has greater 't' coordinate than the text above since the distance is calculated from the top of page\n",
    "# By calculating the center position horizontally for each word, we can say that if text below should also has distance of 'l' coordinate less than the center_coord_hor of define word above\n",
    "# since 'l' value is calculated from left to right, \n",
    "# by that also means the 'r' or right distance coordinate should be greater than the center horizontal coordinate \n",
    "\n",
    "\n",
    "def get_text_below(text_below, text_above):\n",
    "    return text_below['t'] > text_above['t'] and text_below['l'] <= text_above['center_coord_hor'] and text_below['r'] >= text_above['center_coord_hor']\n"
   ]
  },
  {
   "cell_type": "code",
   "execution_count": 11,
   "metadata": {},
   "outputs": [],
   "source": [
    "# here i try to get the account number by using the header of 'account number'\n",
    "# if it's account_number_detail return False and the string is equal to header then it's gonna loop the document \n",
    "# and then find the element below with regex format because the condition is not returning False anymore\n",
    "\n",
    "\n",
    "def account_number(document):\n",
    "    account = []\n",
    "    \n",
    "    account_number_detail = []\n",
    "    for doc in document:\n",
    "        if account_number_detail != None and doc['string'].lower() == 'account number':\n",
    "            account_number_detail = doc\n",
    "        elif account_number_detail and get_text_below(doc, account_number_detail):\n",
    "            account += re.findall(r'\\d{2,3}-\\d{6,11}-\\d{1,2}', doc['string'])\n",
    "            \n",
    "    return account"
   ]
  },
  {
   "cell_type": "code",
   "execution_count": 12,
   "metadata": {},
   "outputs": [],
   "source": [
    "#load account number with script below\n",
    "#account_number(page_details(pages[0]))"
   ]
  },
  {
   "cell_type": "code",
   "execution_count": 13,
   "metadata": {},
   "outputs": [],
   "source": [
    "# get the statement date by find date format from specified regex match \n",
    "\n",
    "def extract_statement_date(document):\n",
    "    stat_date = []\n",
    "    for doc in document:\n",
    "        stat_date += re.findall(r'[0-9]{1,2} [a-zA-Z]{3} [0-9]{4}', doc['string'])\n",
    "    return stat_date"
   ]
  },
  {
   "cell_type": "code",
   "execution_count": 14,
   "metadata": {},
   "outputs": [],
   "source": [
    "#load statement date with script below\n",
    "#extract_statement_date(page_details(pages[0]))"
   ]
  },
  {
   "cell_type": "code",
   "execution_count": 15,
   "metadata": {},
   "outputs": [],
   "source": [
    "# get the right text that next to other words\n",
    "# by using the element r, l, and t. \n",
    "# right text should have greater 'l' coordinate value than the left text\n",
    "# right text should have greater 'r' coordinate value than the left text\n",
    "# right text should have greater 'b' coordinate value than the left text\n",
    "# right text should have greater 't' coordinate value than the left text\n",
    "\n",
    "def get_right_text(right_text, left_text):\n",
    "    return right_text['l'] >= left_text['l'] and right_text['r'] >= left_text['r'] and right_text['b'] >= left_text['t'] and right_text['t'] <= left_text['b']\n"
   ]
  },
  {
   "cell_type": "code",
   "execution_count": 16,
   "metadata": {},
   "outputs": [],
   "source": [
    "def get_transaction(document):\n",
    "    table_header = [['Date'],['Description'],['Withdrawal'],['Deposit']]\n",
    "    \n",
    "    table_header_column = {}\n",
    "    for doc in document:\n",
    "        for detail in table_header:\n",
    "            if any(doc['string'].lower() == column.lower() for column in detail):\n",
    "                table_header_column[detail[0]] = doc\n",
    "                \n",
    "    dates = []\n",
    "    for doc in document:\n",
    "        date_text = get_text_below(doc, table_header_column['Date']) and re.match('[0-9]{1,2} [a-zA-Z]{3}', doc['string'])\n",
    "        if date_text:\n",
    "            dates.append(doc)\n",
    "            \n",
    "            \n",
    "    transactions = []\n",
    "    \n",
    "    for date in dates:\n",
    "        transaction = {}\n",
    "        transaction['Date'] = date['string']\n",
    "        \n",
    "        rows = list(filter(lambda x: get_right_text(x, date), document))\n",
    "        \n",
    "        for row in rows:\n",
    "            desc = get_text_below(row, table_header_column['Description'])\n",
    "            withdraws = get_text_below(row, table_header_column['Withdrawal'])\n",
    "            deposit = get_text_below(row, table_header_column['Deposit'])\n",
    "            \n",
    "            if desc:\n",
    "                transaction['Description'] = row['string']\n",
    "                second_desc = list(filter(lambda x: get_text_below(x, row), document))\n",
    "                below_second_desc = list(filter(lambda x: x['t']-50 <= row['t'], second_desc)) #get the element below the text before another main description\n",
    "                for second_descrow in below_second_desc:\n",
    "                    transaction['Description'] += ', ' + second_descrow['string']\n",
    "                    \n",
    "            if withdraws:\n",
    "                transaction['Amount(SGD)'] = row['string']\n",
    "                transaction['Type'] = 'Withdrawal'\n",
    "            \n",
    "            if deposit:\n",
    "                transaction['Amount(SGD)'] = row['string']\n",
    "                transaction['Type'] = 'Deposit'\n",
    "                \n",
    "        transactions.append(transaction)\n",
    "    return transactions\n",
    "        "
   ]
  },
  {
   "cell_type": "code",
   "execution_count": 17,
   "metadata": {},
   "outputs": [
    {
     "data": {
      "text/plain": [
       "{'name': ['JOHN RIEGER'],\n",
       " 'address': ['KTGIF SINGAPORE PTE. LTD. 26B TEMPLE STREET #03-00 SINGAPORE 058571'],\n",
       " 'account_number': ['12-145753-2'],\n",
       " 'statement_date': ['31 Aug 2018'],\n",
       " 'transactions': [{'Date': '28 Aug',\n",
       "   'Amount(SGD)': '1.254.12',\n",
       "   'Type': 'Deposit',\n",
       "   'Description': 'Quick Cheque Deposit'},\n",
       "  {'Date': '30 Aug',\n",
       "   'Description': 'Point-of-Sale Transaction, TRANSIT LINK PTE LTD',\n",
       "   'Amount(SGD)': '20.00',\n",
       "   'Type': 'Withdrawal'},\n",
       "  {'Date': '30 Aug',\n",
       "   'Description': 'Point-of-Sale Transaction, S & S LINKERS PTE LTD',\n",
       "   'Amount(SGD)': '465.00',\n",
       "   'Type': 'Withdrawal'},\n",
       "  {'Date': '31 Aug',\n",
       "   'Description': 'Point-of-Sale Transaction, GAYATRI RESTAURANT',\n",
       "   'Amount(SGD)': '26.50',\n",
       "   'Type': 'Withdrawal'},\n",
       "  {'Date': '31 Aug',\n",
       "   'Description': 'Point-of-Sale Transaction, FOCUS NETWORK AGENCIES (S) PTE LTD',\n",
       "   'Amount(SGD)': '16.00',\n",
       "   'Type': 'Withdrawal'}]}"
      ]
     },
     "execution_count": 17,
     "metadata": {},
     "output_type": "execute_result"
    }
   ],
   "source": [
    "#map the output\n",
    "\n",
    "{'name': extract_name(page_details(pages[0])),\n",
    " 'address': extract_address(page_details(pages[0])),\n",
    " 'account_number': account_number(page_details(pages[0])),\n",
    " 'statement_date': extract_statement_date(page_details(pages[0])),\n",
    " 'transactions': get_transaction(page_details(pages[1]))\n",
    "}"
   ]
  },
  {
   "cell_type": "code",
   "execution_count": null,
   "metadata": {},
   "outputs": [],
   "source": []
  }
 ],
 "metadata": {
  "kernelspec": {
   "display_name": "Python 3",
   "language": "python",
   "name": "python3"
  },
  "language_info": {
   "codemirror_mode": {
    "name": "ipython",
    "version": 3
   },
   "file_extension": ".py",
   "mimetype": "text/x-python",
   "name": "python",
   "nbconvert_exporter": "python",
   "pygments_lexer": "ipython3",
   "version": "3.6.8"
  }
 },
 "nbformat": 4,
 "nbformat_minor": 2
}
